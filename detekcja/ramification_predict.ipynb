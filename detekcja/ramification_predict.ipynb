{
 "cells": [
  {
   "cell_type": "code",
   "execution_count": 1,
   "metadata": {},
   "outputs": [],
   "source": [
    "from detectron2.engine import DefaultPredictor\n",
    "from detectron2.config import get_cfg\n",
    "from detectron2.utils.visualizer import Visualizer\n",
    "from detectron2.data import MetadataCatalog\n",
    "import cv2\n",
    "import os\n",
    "import pandas as pd"
   ]
  },
  {
   "cell_type": "code",
   "execution_count": 2,
   "metadata": {},
   "outputs": [
    {
     "name": "stderr",
     "output_type": "stream",
     "text": [
      "Loading config ./detectron2/model_zoo/configs/COCO-Detection/../Base-RetinaNet.yaml with yaml.unsafe_load. Your machine may be at risk if the file contains malicious content.\n",
      "Config './detectron2/model_zoo/configs/COCO-Detection/retinanet_R_101_FPN_3x.yaml' has no VERSION. Assuming it to be compatible with latest v2.\n"
     ]
    }
   ],
   "source": [
    "cfg = get_cfg()\n",
    "cfg.merge_from_file(\"./detectron2/model_zoo/configs/COCO-Detection/retinanet_R_101_FPN_3x.yaml\")\n",
    "cfg.MODEL.RETINANET.NUM_CLASSES = 1\n",
    "cfg.DATASETS.TEST = ('ramification_data/test',)\n",
    "cfg.OUTPUT_DIR = 'output_model'\n",
    "cfg.MODEL.WEIGHTS = os.path.join(cfg.OUTPUT_DIR, \"model_final.pth\")"
   ]
  },
  {
   "cell_type": "code",
   "execution_count": 3,
   "metadata": {},
   "outputs": [],
   "source": [
    "import os\n",
    "import numpy as np\n",
    "import json\n",
    "from detectron2.structures import BoxMode\n",
    "import itertools\n",
    "import cv2\n",
    "\n",
    "def get_ramification_dicts(csv_file, img_dir):\n",
    "    df = pd.read_csv(csv_file)\n",
    "    df['filename'] = df['filename'].map(lambda x: img_dir+x)\n",
    "\n",
    "    classes = ['ramification']\n",
    "    df['class'] = df['class'].map(lambda x: 'ramification')\n",
    "    df['class_int'] = df['class'].map(lambda x: classes.index(x))\n",
    "\n",
    "    dataset_dicts = []\n",
    "    for filename in df['filename'].unique().tolist():\n",
    "        record = {}\n",
    "        image = cv2.imread(filename)\n",
    "        height, width, _ = image.shape\n",
    "        \n",
    "        record[\"file_name\"] = filename\n",
    "        record[\"height\"] = height\n",
    "        record[\"width\"] = width\n",
    "\n",
    "        objs = []\n",
    "        for index, row in df[(df['filename']==filename)].iterrows():\n",
    "          obj= {\n",
    "              'bbox': [row['xmin'], row['ymin'], row['xmax'], row['ymax']],\n",
    "              'bbox_mode': BoxMode.XYXY_ABS,\n",
    "              'category_id': row['class_int'],\n",
    "              \"iscrowd\": 0\n",
    "          }\n",
    "          objs.append(obj)\n",
    "        record[\"annotations\"] = objs\n",
    "        dataset_dicts.append(record)\n",
    "    return dataset_dicts"
   ]
  },
  {
   "cell_type": "code",
   "execution_count": 4,
   "metadata": {},
   "outputs": [],
   "source": [
    "import random\n",
    "cfg.MODEL.WEIGHTS = os.path.join(cfg.OUTPUT_DIR, \"model_final.pth\")\n",
    "cfg.MODEL.RETINANET.NMS_THRESH_TEST = 0.5\n",
    "cfg.MODEL.RETINANET.SCORE_THRESH_TEST = 0.5\n",
    "cfg.MODEL.RETINANET.IOU_THRESHOLDS = [0.5, 0.8]\n",
    "cfg.MODEL.RETINANET.NUM_CLASSES = 1 # set the testing threshold for this model\n",
    "cfg.DATASETS.TEST = ('ramification_data/test', )\n",
    "predictor = DefaultPredictor(cfg)\n",
    "tomato_metadata = MetadataCatalog.get('ramification/test')\n",
    "df_test = pd.read_csv('ramification/test_labels.csv')\n",
    "i = 0\n",
    "dataset_dicts = get_ramification_dicts('ramification/test_labels.csv', 'ramification/test/')\n",
    "for d in random.sample(dataset_dicts, 15):    \n",
    "    im = cv2.imread(d[\"file_name\"])\n",
    "    outputs = predictor(im)\n",
    "    v = Visualizer(im[:, :, ::-1], metadata=tomato_metadata, scale=0.8)\n",
    "    v = v.draw_instance_predictions(outputs[\"instances\"].to(\"cpu\"))\n",
    "    cv2.imwrite('result{}.jpg'.format(i), v.get_image()[:, :, ::-1])\n",
    "    i+=1"
   ]
  },
  {
   "cell_type": "code",
   "execution_count": null,
   "metadata": {},
   "outputs": [],
   "source": []
  }
 ],
 "metadata": {
  "kernelspec": {
   "display_name": "triffid_conda",
   "language": "python",
   "name": "triffid_conda"
  },
  "language_info": {
   "codemirror_mode": {
    "name": "ipython",
    "version": 3
   },
   "file_extension": ".py",
   "mimetype": "text/x-python",
   "name": "python",
   "nbconvert_exporter": "python",
   "pygments_lexer": "ipython3",
   "version": "3.6.9"
  }
 },
 "nbformat": 4,
 "nbformat_minor": 2
}
